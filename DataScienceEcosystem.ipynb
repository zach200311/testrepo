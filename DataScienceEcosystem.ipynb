{
 "cells": [
  {
   "cell_type": "markdown",
   "id": "6980f697-cca5-49da-b544-233a0d5933cd",
   "metadata": {
    "tags": []
   },
   "source": [
    "#  Data Science Tools and Ecosytem"
   ]
  },
  {
   "cell_type": "markdown",
   "id": "87bc714a-9a1e-439d-90cf-89620a421b22",
   "metadata": {},
   "source": [
    "#In this notebook, Data Science Tools and Ecosytems are summarized."
   ]
  },
  {
   "cell_type": "markdown",
   "id": "b4e8412a-cb60-4f80-ab86-26eb1242ca5e",
   "metadata": {
    "tags": []
   },
   "source": [
    "Some of the popular languages that Data Scientists uses are:\n",
    "1) Python\n",
    "2) R\n",
    "3) Julia"
   ]
  },
  {
   "cell_type": "markdown",
   "id": "45aa7473-42d5-42cd-8c12-0a0fc1c42d14",
   "metadata": {},
   "source": [
    "Some of the commonly used libraries used by Data Scientists include:\n",
    "1) Pandas\n",
    "2) NumPy\n",
    "3) TensorFlow"
   ]
  },
  {
   "cell_type": "markdown",
   "id": "002245c5-3f74-422d-ac1c-8ce591afb931",
   "metadata": {},
   "source": [
    "| Data Science Tools | \n",
    "| ------------------ |\n",
    "| Jupyter Notebook | \n",
    "| RStudio | \n",
    "| Visual Studio Code | "
   ]
  },
  {
   "cell_type": "markdown",
   "id": "a5076d9e-ce4b-4de6-9db4-b9afbf120d46",
   "metadata": {},
   "source": [
    "### Below are a few examples of evaluating arithmetic expressions in Phython"
   ]
  },
  {
   "cell_type": "code",
   "execution_count": 2,
   "id": "b0d5f9ce-71d3-4cab-a584-951b4a7f3bad",
   "metadata": {
    "tags": []
   },
   "outputs": [
    {
     "data": {
      "text/plain": [
       "17"
      ]
     },
     "execution_count": 2,
     "metadata": {},
     "output_type": "execute_result"
    }
   ],
   "source": [
    "(3*4)+5"
   ]
  },
  {
   "cell_type": "code",
   "execution_count": 3,
   "id": "64913fee-547d-4eb7-8e24-12d98742f4ab",
   "metadata": {
    "tags": []
   },
   "outputs": [
    {
     "data": {
      "text/plain": [
       "3.3333333333333335"
      ]
     },
     "execution_count": 3,
     "metadata": {},
     "output_type": "execute_result"
    }
   ],
   "source": [
    "#This will convert 200 minutes to hours by diving by 60\n",
    "200/60"
   ]
  },
  {
   "cell_type": "markdown",
   "id": "70180be7-c6a9-4323-991f-ec519525b3c3",
   "metadata": {},
   "source": [
    "Objectives\n",
    "- List popular languages for Data Science\n",
    "- Packages \n",
    "- API's"
   ]
  },
  {
   "cell_type": "markdown",
   "id": "7901dfe3-1ccf-450b-b7b1-31402479da56",
   "metadata": {},
   "source": [
    "## "
   ]
  }
 ],
 "metadata": {
  "kernelspec": {
   "display_name": "Python",
   "language": "python",
   "name": "conda-env-python-py"
  },
  "language_info": {
   "codemirror_mode": {
    "name": "ipython",
    "version": 3
   },
   "file_extension": ".py",
   "mimetype": "text/x-python",
   "name": "python",
   "nbconvert_exporter": "python",
   "pygments_lexer": "ipython3",
   "version": "3.7.12"
  }
 },
 "nbformat": 4,
 "nbformat_minor": 5
}
